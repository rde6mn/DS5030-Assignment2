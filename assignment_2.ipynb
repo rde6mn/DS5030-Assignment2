{
 "cells": [
  {
   "cell_type": "markdown",
   "id": "87b91d83",
   "metadata": {},
   "source": [
    "# Assignment 2\n",
    "### Understanding Uncertainty\n",
    "### Due 9/12"
   ]
  },
  {
   "cell_type": "code",
   "execution_count": 2,
   "id": "1a81a0a8",
   "metadata": {},
   "outputs": [],
   "source": [
    "import pandas as pd"
   ]
  },
  {
   "cell_type": "code",
   "execution_count": 3,
   "id": "283fc41b",
   "metadata": {},
   "outputs": [],
   "source": [
    "idf = pd.read_csv('C:/Users/school/understanding_uncertainty/data/iowa.csv') # Iowa Liquor Sales Data"
   ]
  },
  {
   "cell_type": "code",
   "execution_count": 4,
   "id": "fe69e959",
   "metadata": {},
   "outputs": [
    {
     "data": {
      "text/html": [
       "<div>\n",
       "<style scoped>\n",
       "    .dataframe tbody tr th:only-of-type {\n",
       "        vertical-align: middle;\n",
       "    }\n",
       "\n",
       "    .dataframe tbody tr th {\n",
       "        vertical-align: top;\n",
       "    }\n",
       "\n",
       "    .dataframe thead th {\n",
       "        text-align: right;\n",
       "    }\n",
       "</style>\n",
       "<table border=\"1\" class=\"dataframe\">\n",
       "  <thead>\n",
       "    <tr style=\"text-align: right;\">\n",
       "      <th></th>\n",
       "      <th>Invoice/Item Number</th>\n",
       "      <th>Date</th>\n",
       "      <th>Store Number</th>\n",
       "      <th>Store Name</th>\n",
       "      <th>Zip Code</th>\n",
       "      <th>Category Name</th>\n",
       "      <th>Vendor Name</th>\n",
       "      <th>Item Number</th>\n",
       "      <th>Item Description</th>\n",
       "      <th>Bottle Volume (ml)</th>\n",
       "      <th>State Bottle Cost</th>\n",
       "      <th>State Bottle Retail</th>\n",
       "      <th>Bottles Sold</th>\n",
       "      <th>Sale (Dollars)</th>\n",
       "    </tr>\n",
       "  </thead>\n",
       "  <tbody>\n",
       "    <tr>\n",
       "      <th>0</th>\n",
       "      <td>INV-59108400026</td>\n",
       "      <td>06/06/2023</td>\n",
       "      <td>3723</td>\n",
       "      <td>J D SPIRITS LIQUOR</td>\n",
       "      <td>51040</td>\n",
       "      <td>STRAIGHT RYE WHISKIES</td>\n",
       "      <td>INFINIUM SPIRITS</td>\n",
       "      <td>27102</td>\n",
       "      <td>TEMPLETON RYE 4YR</td>\n",
       "      <td>750</td>\n",
       "      <td>18.09</td>\n",
       "      <td>27.14</td>\n",
       "      <td>2</td>\n",
       "      <td>54.28</td>\n",
       "    </tr>\n",
       "    <tr>\n",
       "      <th>1</th>\n",
       "      <td>S16879800057</td>\n",
       "      <td>01/16/2014</td>\n",
       "      <td>3926</td>\n",
       "      <td>LIQUOR DOWNTOWN / IOWA CITY</td>\n",
       "      <td>52240</td>\n",
       "      <td>VODKA 80 PROOF</td>\n",
       "      <td>HEAVEN HILL BRANDS</td>\n",
       "      <td>35416</td>\n",
       "      <td>BURNETT'S VODKA 80 PRF</td>\n",
       "      <td>750</td>\n",
       "      <td>4.84</td>\n",
       "      <td>7.26</td>\n",
       "      <td>12</td>\n",
       "      <td>87.12</td>\n",
       "    </tr>\n",
       "    <tr>\n",
       "      <th>2</th>\n",
       "      <td>INV-05301100019</td>\n",
       "      <td>06/05/2017</td>\n",
       "      <td>3829</td>\n",
       "      <td>GARY'S FOODS / MT VERNON</td>\n",
       "      <td>52314</td>\n",
       "      <td>CANADIAN WHISKIES</td>\n",
       "      <td>DIAGEO AMERICAS</td>\n",
       "      <td>11296</td>\n",
       "      <td>CROWN ROYAL</td>\n",
       "      <td>750</td>\n",
       "      <td>15.59</td>\n",
       "      <td>23.39</td>\n",
       "      <td>6</td>\n",
       "      <td>135.66</td>\n",
       "    </tr>\n",
       "  </tbody>\n",
       "</table>\n",
       "</div>"
      ],
      "text/plain": [
       "  Invoice/Item Number        Date  Store Number                   Store Name  \\\n",
       "0     INV-59108400026  06/06/2023          3723           J D SPIRITS LIQUOR   \n",
       "1        S16879800057  01/16/2014          3926  LIQUOR DOWNTOWN / IOWA CITY   \n",
       "2     INV-05301100019  06/05/2017          3829     GARY'S FOODS / MT VERNON   \n",
       "\n",
       "  Zip Code          Category Name         Vendor Name  Item Number  \\\n",
       "0    51040  STRAIGHT RYE WHISKIES    INFINIUM SPIRITS        27102   \n",
       "1    52240         VODKA 80 PROOF  HEAVEN HILL BRANDS        35416   \n",
       "2    52314      CANADIAN WHISKIES     DIAGEO AMERICAS        11296   \n",
       "\n",
       "         Item Description  Bottle Volume (ml)  State Bottle Cost  \\\n",
       "0       TEMPLETON RYE 4YR                 750              18.09   \n",
       "1  BURNETT'S VODKA 80 PRF                 750               4.84   \n",
       "2             CROWN ROYAL                 750              15.59   \n",
       "\n",
       "   State Bottle Retail  Bottles Sold  Sale (Dollars)  \n",
       "0                27.14             2           54.28  \n",
       "1                 7.26            12           87.12  \n",
       "2                23.39             6          135.66  "
      ]
     },
     "execution_count": 4,
     "metadata": {},
     "output_type": "execute_result"
    }
   ],
   "source": [
    "idf.head(3)"
   ]
  },
  {
   "cell_type": "markdown",
   "id": "380e339f",
   "metadata": {},
   "source": [
    "1. 'State Bottle Retail' is the price at which the bottle is sold, while 'State Bottle Cost' is the price the state pays for a bottle.\n",
    "- How do you define the most profitable item? Why? Explain your thinking.\n",
    "- Use `.groupby` calculations to determine the most profitable liquors sold in Iowa.\n",
    "- Make a plot of the top liquors."
   ]
  },
  {
   "cell_type": "markdown",
   "id": "656cb93e",
   "metadata": {},
   "source": [
    "Question 1 part 1:\n",
    "\n",
    "THere are a few ways one could determine which liqour is the most profitable, depending on factors like each type of bottle sold or combinind ml of bottles of the same type and then calculating it that way, but in my case I am going to use bottles sold because by my own definition, even if two bottles have the same type of liquor, the different mls per bottle make them completely different items. \n",
    "\n",
    "So I would do (retail - cost) * bottles sold by item number to find the most profitable item. "
   ]
  },
  {
   "cell_type": "markdown",
   "id": "37f8a701",
   "metadata": {},
   "source": [
    "Question 1 part 2"
   ]
  },
  {
   "cell_type": "code",
   "execution_count": 9,
   "id": "8960d665",
   "metadata": {},
   "outputs": [],
   "source": [
    "#find actual profit per bottle sold\n",
    "\n",
    "idf['profit_per_bottle'] = idf['State Bottle Retail'] - idf['State Bottle Cost']"
   ]
  },
  {
   "cell_type": "code",
   "execution_count": 10,
   "id": "10ec41f5",
   "metadata": {},
   "outputs": [],
   "source": [
    "#overall profit per item\n",
    "idf['profit'] = idf['profit_per_bottle'] * idf['Bottles Sold']"
   ]
  },
  {
   "cell_type": "code",
   "execution_count": 18,
   "id": "7a757645",
   "metadata": {},
   "outputs": [],
   "source": [
    "most_profit = idf['profit'].groupby([idf['Item Description']]).sum().sort_values(ascending=False).head()"
   ]
  },
  {
   "cell_type": "code",
   "execution_count": 19,
   "id": "64f14124",
   "metadata": {},
   "outputs": [
    {
     "data": {
      "text/plain": [
       "Item Description\n",
       "TITOS HANDMADE VODKA         364074.35\n",
       "BLACK VELVET                 274676.85\n",
       "FIREBALL CINNAMON WHISKEY    187535.22\n",
       "CROWN ROYAL                  160981.95\n",
       "CROWN ROYAL REGAL APPLE      122880.40\n",
       "Name: profit, dtype: float64"
      ]
     },
     "execution_count": 19,
     "metadata": {},
     "output_type": "execute_result"
    }
   ],
   "source": [
    "most_profit"
   ]
  },
  {
   "cell_type": "markdown",
   "id": "43879d16",
   "metadata": {},
   "source": [
    "most profitable liquors (not items since this doesn't specify for items): tito's handmade vodka, black velvet, fireball cinnamon whiskey, crown royal, crown royal regal apple, in that order from most to least profitable"
   ]
  },
  {
   "cell_type": "markdown",
   "id": "abe69366",
   "metadata": {},
   "source": [
    "Question 1 part 3"
   ]
  },
  {
   "cell_type": "code",
   "execution_count": 23,
   "id": "c04ea8c6",
   "metadata": {},
   "outputs": [
    {
     "data": {
      "image/png": "[encoded data removed]",
      "text/plain": [
       "<Figure size 640x480 with 1 Axes>"
      ]
     },
     "metadata": {},
     "output_type": "display_data"
    }
   ],
   "source": [
    "barplot = most_profit.plot.bar(title='Most Profitable Liquors', ylabel='Profit', xlabel='Liquor Name')"
   ]
  },
  {
   "cell_type": "markdown",
   "id": "63593bde",
   "metadata": {},
   "source": [
    "2. This question is to further explore broadcasting in NumPy.\n",
    "\n",
    "- In the first code chunk below, there are two vectors, $x$ and $y$. What happens when you try to subtract them?\n",
    "- Instead, try `x.reshape(-1,1)-y.reshape(-1,1)`. What do you get?\n",
    "- Try `x.reshape(1,-1)-y.reshape(1,-1)`. Compare the results to your previous answer.\n",
    "- Write two double for-loops to replicate the results of the previous two answers. \n",
    "- Clearly explain how `x.reshape(1,-1)` and `x.reshape(-1,1)` change $x$"
   ]
  },
  {
   "cell_type": "code",
   "execution_count": 27,
   "id": "e29b3aac",
   "metadata": {},
   "outputs": [],
   "source": [
    "import numpy as np\n",
    "\n",
    "x = np.array([1,3,5])\n",
    "y = np.array([2,5])"
   ]
  },
  {
   "cell_type": "code",
   "execution_count": 24,
   "id": "f28afb3d",
   "metadata": {},
   "outputs": [
    {
     "ename": "ValueError",
     "evalue": "operands could not be broadcast together with shapes (3,) (2,) ",
     "output_type": "error",
     "traceback": [
      "\u001b[31m---------------------------------------------------------------------------\u001b[39m",
      "\u001b[31mValueError\u001b[39m                                Traceback (most recent call last)",
      "\u001b[36mCell\u001b[39m\u001b[36m \u001b[39m\u001b[32mIn[24]\u001b[39m\u001b[32m, line 2\u001b[39m\n\u001b[32m      1\u001b[39m \u001b[38;5;66;03m# Part 1\u001b[39;00m\n\u001b[32m----> \u001b[39m\u001b[32m2\u001b[39m \u001b[43mx\u001b[49m\u001b[43m-\u001b[49m\u001b[43my\u001b[49m\n",
      "\u001b[31mValueError\u001b[39m: operands could not be broadcast together with shapes (3,) (2,) "
     ]
    }
   ],
   "source": [
    "# Part 1\n",
    "x-y"
   ]
  },
  {
   "cell_type": "markdown",
   "id": "7a55c55a",
   "metadata": {},
   "source": [
    "gave an error because the shapes were not compatible for subtraction"
   ]
  },
  {
   "cell_type": "code",
   "execution_count": 41,
   "id": "8dba4a24",
   "metadata": {},
   "outputs": [
    {
     "data": {
      "text/plain": [
       "array([[-1,  1,  3],\n",
       "       [-4, -2,  0]])"
      ]
     },
     "execution_count": 41,
     "metadata": {},
     "output_type": "execute_result"
    }
   ],
   "source": [
    "# Part 2\n",
    "x.reshape(1,-1)-y.reshape(-1,1)"
   ]
  },
  {
   "cell_type": "markdown",
   "id": "3cefe744",
   "metadata": {},
   "source": [
    "the resulting value is an array with the shape 2x3"
   ]
  },
  {
   "cell_type": "code",
   "execution_count": 33,
   "id": "5f7ae17c",
   "metadata": {},
   "outputs": [
    {
     "data": {
      "text/plain": [
       "array([[-1, -4],\n",
       "       [ 1, -2],\n",
       "       [ 3,  0]])"
      ]
     },
     "execution_count": 33,
     "metadata": {},
     "output_type": "execute_result"
    }
   ],
   "source": [
    "#Part 3\n",
    "x.reshape(-1,1)-y.reshape(1,-1)"
   ]
  },
  {
   "cell_type": "markdown",
   "id": "5fc61c22",
   "metadata": {},
   "source": [
    "this results in an array of shape 3x2, and it is also a transpose of the array from the previous part"
   ]
  },
  {
   "cell_type": "code",
   "execution_count": 42,
   "id": "49ecd259",
   "metadata": {},
   "outputs": [],
   "source": [
    "def matrix_sub(x,y,transposeval=0): #where x and y are 1d arrays\n",
    "    cols = x.size\n",
    "    rows = y.size\n",
    "    return_array = [[0 for _ in range(cols)] for _ in range(rows)]\n",
    "    for i in range(rows):\n",
    "        for j in range(cols):\n",
    "            return_array[i][j] = x[j]-y[i]\n",
    "\n",
    "    if transposeval == 1:\n",
    "        return np.array(return_array).T\n",
    "    else:\n",
    "        return np.array(return_array)\n"
   ]
  },
  {
   "cell_type": "code",
   "execution_count": 43,
   "id": "e1024698",
   "metadata": {},
   "outputs": [
    {
     "data": {
      "text/plain": [
       "array([[-1,  1,  3],\n",
       "       [-4, -2,  0]])"
      ]
     },
     "execution_count": 43,
     "metadata": {},
     "output_type": "execute_result"
    }
   ],
   "source": [
    "matrix_sub(x,y)"
   ]
  },
  {
   "cell_type": "code",
   "execution_count": 44,
   "id": "7a36ba5d",
   "metadata": {},
   "outputs": [
    {
     "data": {
      "text/plain": [
       "array([[-1, -4],\n",
       "       [ 1, -2],\n",
       "       [ 3,  0]])"
      ]
     },
     "execution_count": 44,
     "metadata": {},
     "output_type": "execute_result"
    }
   ],
   "source": [
    "matrix_sub(x,y,1)"
   ]
  },
  {
   "cell_type": "code",
   "execution_count": 49,
   "id": "b5a42783",
   "metadata": {},
   "outputs": [
    {
     "data": {
      "text/plain": [
       "array([[1],\n",
       "       [3],\n",
       "       [5]])"
      ]
     },
     "execution_count": 49,
     "metadata": {},
     "output_type": "execute_result"
    }
   ],
   "source": [
    "x.reshape(-1,1)"
   ]
  },
  {
   "cell_type": "markdown",
   "id": "7b391f4d",
   "metadata": {},
   "source": [
    "reshape controls the dimensions that an array has. the first parameter represents the rows of the array. If it is set to -1, it means to infer the number of rows needed based on the array that is passed into it. If it is given any other number, the number of rows is explicitly set (for example if 1 is passed, in that means that there should only be 1 row when reshaped). The second paramenter represnts to number of columns, and it works the same way as for the rows. If -1, the number of cols in infered from the data being reshaped, and for other ints, the number of columns is explicity set. "
   ]
  },
  {
   "cell_type": "markdown",
   "id": "b29f1d35",
   "metadata": {},
   "source": [
    "3. The indicator function $\\mathbb{I}\\{ x \\le z \\}$ takes the value 0 if $x>z$ is false and 1 if $x \\le z$ is true.\n",
    "\n",
    "- For $y = 3$, plot the indicator function for any $z$\n",
    "- Explain how $ 1- \\mathbb{I}\\{ x \\le z \\} = \\mathbb{I}\\{ x > z \\}$. Drawing a plot might help, or looking at the definition that\n",
    "$$\n",
    "\\mathbb{I}\\{x \\le z\\} = \\begin{cases}\n",
    "0, &x > z \\\\\n",
    "1, &x \\le z\n",
    "\\end{cases}\n",
    "$$\n",
    "- The code below generates a random sample for different numbers of observations, $N = 3, 30, 300, 3000 $. Write a function to compute the ECDF curve for each sample, and plot your results.\n",
    "- Describe in your own words what happens to the ECDF qualitatively as the sample size $N$ increases"
   ]
  },
  {
   "cell_type": "code",
   "execution_count": 64,
   "id": "17ad7d01",
   "metadata": {},
   "outputs": [
    {
     "data": {
      "image/png": "[encoded data removed]",
      "text/plain": [
       "<Figure size 640x480 with 1 Axes>"
      ]
     },
     "metadata": {},
     "output_type": "display_data"
    }
   ],
   "source": [
    "import numpy as np\n",
    "import seaborn as sns\n",
    "\n",
    "rng = np.random.default_rng(100)\n",
    "\n",
    "def my_ecdf(X):\n",
    "    X = np.sort(X)\n",
    "    N = X.size\n",
    "    y = np.arange(1, N+1) / N\n",
    "    return X, y\n",
    "\n",
    "for N in (3,30,300,3000):\n",
    "    X = rng.normal(0,1,N)\n",
    "    # ECDF plot goes here:\n",
    "    my_ecdf(X)\n",
    "    #sns.scatterplot(x=my_ecdf(X)[0], y=my_ecdf(X)[1], marker='.')\n",
    "    sns.lineplot(x=np.sort(X), y=my_ecdf(X)[1])#add a legend for colors\n",
    "    \n",
    "\n",
    "    "
   ]
  },
  {
   "cell_type": "markdown",
   "id": "f45096de",
   "metadata": {},
   "source": [
    "As the sample size N increases, the plot's curve becomes smoother and smother and it gets cluser to the \"true\" value"
   ]
  },
  {
   "cell_type": "markdown",
   "id": "6c8f1ebb",
   "metadata": {},
   "source": [
    "4. A **quantile** generalizes the concept of the median so that instead of 50% of the mass below and 50% above, the $q$-quantile is the value for which $q$ proportion of the data are below that value and $(1-q)$ proportion of the data are above that value. This is a concept of **order**.\n",
    "\n",
    "- Write a function that computes any quantile without using Numpy's `np.quantile`\n",
    "- Write a function that computes the **Interquartile Range (IQR)** -- the .25 quantile and the .75 quantile, which brackets 50% of the data -- and the **whiskers**: $\\pm 1.5 \\times \\text{IQR}$ from the edges of the IQR\n",
    "- Write a function that computes a five-number summary and values for a boxplot: the minimum, the .25 quantile, the median, the .75 quantile, and the maximum, and the whiskers\n",
    "- Anything outside the whiskers is an **outlier**; write a function that returns a Boolean vector indicating if the observations are outliers.\n",
    "- For a numeric variable of your choice from one of the datasets, apply your functions from above, and compare your answers with `sns.boxplot` and `df.describe`. "
   ]
  },
  {
   "cell_type": "code",
   "execution_count": 141,
   "id": "2d211262",
   "metadata": {},
   "outputs": [],
   "source": [
    "df = pd.read_csv('mn_police_use_of_force.csv')"
   ]
  },
  {
   "cell_type": "code",
   "execution_count": 68,
   "id": "6e3c9d1c",
   "metadata": {},
   "outputs": [
    {
     "data": {
      "text/plain": [
       "1"
      ]
     },
     "execution_count": 68,
     "metadata": {},
     "output_type": "execute_result"
    }
   ],
   "source": [
    "arr = [0,0,1,2]\n",
    "len(arr)\n",
    "arr[len(arr)//2]"
   ]
  },
  {
   "cell_type": "code",
   "execution_count": 168,
   "id": "4727ba92",
   "metadata": {},
   "outputs": [],
   "source": [
    "def calculate_quantile(incoming_data, decimal_quantile_number):\n",
    "    incoming_data = np.sort(incoming_data.dropna())\n",
    "    index = (decimal_quantile_number * (incoming_data.size - 1))\n",
    "    int_index = index//1\n",
    "    #print(int_index)\n",
    "    dec_index = index - int_index\n",
    "    #print(dec_index)\n",
    "    if dec_index == 0:\n",
    "        return incoming_data[int(int_index)]\n",
    "    else:\n",
    "        index_one = incoming_data[int(int_index)]\n",
    "        index_two = incoming_data[int(int_index + 1)]\n",
    "        diff = index_two - index_one\n",
    "        return index_one + diff * dec_index\n",
    "\n",
    "    \n",
    "#formula source: https://courses.lumenlearning.com/introstats1/chapter/measures-of-the-location-of-the-data/"
   ]
  },
  {
   "cell_type": "code",
   "execution_count": 156,
   "id": "5da18d13",
   "metadata": {},
   "outputs": [
    {
     "name": "stdout",
     "output_type": "stream",
     "text": [
      "22.0\n",
      "28.0\n",
      "35.0\n",
      "0.25    22.0\n",
      "0.50    28.0\n",
      "0.75    35.0\n",
      "Name: age, dtype: float64\n"
     ]
    }
   ],
   "source": [
    "print(calculate_quantile(df['age'], 0.25))\n",
    "print(calculate_quantile(df['age'], 0.5))\n",
    "print(calculate_quantile(df['age'], 0.75))\n",
    "\n",
    "print((df['age'].quantile([0.25,0.5,0.75])))\n"
   ]
  },
  {
   "cell_type": "code",
   "execution_count": 157,
   "id": "757b5a9b",
   "metadata": {},
   "outputs": [],
   "source": [
    "def calculate_iqr_and_whisker(incoming_data):\n",
    "    # formular from: https://www.statisticshowto.com/calculators/interquartile-range-calculator/\n",
    "    iqr = calculate_quantile(incoming_data, 0.75) - calculate_quantile(incoming_data, 0.25)\n",
    "    upper_whisker = calculate_quantile(incoming_data, 0.75)+iqr*1.5\n",
    "    lower_whisker = calculate_quantile(incoming_data, 0.25)-iqr*1.5\n",
    "    return [iqr, upper_whisker, lower_whisker]"
   ]
  },
  {
   "cell_type": "code",
   "execution_count": 158,
   "id": "7ded2f10",
   "metadata": {},
   "outputs": [
    {
     "name": "stdout",
     "output_type": "stream",
     "text": [
      "[np.float64(13.0), np.float64(54.5), np.float64(2.5)]\n"
     ]
    }
   ],
   "source": [
    "print(calculate_iqr_and_whisker(df['age']))\n"
   ]
  },
  {
   "cell_type": "code",
   "execution_count": 161,
   "id": "7830bf77",
   "metadata": {},
   "outputs": [],
   "source": [
    "def five_num_summary(incoming_data):\n",
    "    incoming_data = incoming_data.dropna()\n",
    "    quantile25 = calculate_quantile(incoming_data, 0.25)\n",
    "    quantile75 = calculate_quantile(incoming_data, 0.75)\n",
    "    median = calculate_quantile(incoming_data, 0.5)\n",
    "    upper_whisker = calculate_iqr_and_whisker(incoming_data)[1]\n",
    "    lower_whisker = calculate_iqr_and_whisker(incoming_data)[2]\n",
    "    incoming_data = np.sort(incoming_data)\n",
    "    min = incoming_data[0]\n",
    "    max = incoming_data[-1]\n",
    "    return_statement = \"min: \" + str(min) + \", Q1: \" + str(quantile25) + \", median: \" + str(median) + \", Q3: \" + str(quantile75) + \", max: \" + str(max) + \", lower whisker: \" + str(lower_whisker) + \", upper whisker: \" + str(upper_whisker)\n",
    "    return return_statement"
   ]
  },
  {
   "cell_type": "code",
   "execution_count": 169,
   "id": "eb81100a",
   "metadata": {},
   "outputs": [
    {
     "name": "stdout",
     "output_type": "stream",
     "text": [
      "min: 0.0, Q1: 22.0, median: 28.0, Q3: 35.0, max: 82.0, lower whisker: 2.5, upper whisker: 54.5\n"
     ]
    },
    {
     "data": {
      "text/plain": [
       "count    11859.000000\n",
       "mean        29.484527\n",
       "std         10.987780\n",
       "min          0.000000\n",
       "25%         22.000000\n",
       "50%         28.000000\n",
       "75%         35.000000\n",
       "max         82.000000\n",
       "Name: age, dtype: float64"
      ]
     },
     "execution_count": 169,
     "metadata": {},
     "output_type": "execute_result"
    }
   ],
   "source": [
    "print(five_num_summary(df['age']))\n",
    "df['age'].describe()"
   ]
  },
  {
   "cell_type": "code",
   "execution_count": 165,
   "id": "5ce26d1d",
   "metadata": {},
   "outputs": [
    {
     "data": {
      "image/png": "[encoded data removed]",
      "text/plain": [
       "<Figure size 800x200 with 1 Axes>"
      ]
     },
     "metadata": {},
     "output_type": "display_data"
    }
   ],
   "source": [
    "import matplotlib.pyplot as plt\n",
    "\n",
    "plt.figure(figsize=(8, 2))\n",
    "plt.boxplot(df['age'].dropna(), vert=False)\n",
    "plt.title('Boxplot of Age')\n",
    "plt.xlabel('Age')\n",
    "plt.show()"
   ]
  },
  {
   "cell_type": "code",
   "execution_count": 170,
   "id": "fcdaa694",
   "metadata": {},
   "outputs": [
    {
     "data": {
      "image/png": "[encoded data removed]",
      "text/plain": [
       "<Figure size 800x200 with 1 Axes>"
      ]
     },
     "metadata": {},
     "output_type": "display_data"
    }
   ],
   "source": [
    "import matplotlib.pyplot as plt\n",
    "\n",
    "plt.figure(figsize=(8, 2))\n",
    "box = plt.boxplot(df['age'].dropna(), vert=False)\n",
    "whisker_data = [whisker.get_xdata() for whisker in box['whiskers']]\n",
    "\n",
    "# Add labels at the whisker endpoints\n",
    "for whisker in whisker_data:\n",
    "    for x in whisker:\n",
    "        plt.text(x, 1, f'{x:.1f}', va='center', ha='center', color='red')\n",
    "\n",
    "plt.title('Boxplot of Age')\n",
    "plt.xlabel('Age')\n",
    "plt.show()"
   ]
  },
  {
   "cell_type": "markdown",
   "id": "99f4c407",
   "metadata": {},
   "source": [
    "5. The kernel density estimator captures the concentration of the data around various points, and is defined as\n",
    "$$\n",
    "\\hat{f}_{N,h}(z) = \\frac{1}{N} \\sum_{i=1}^N \\frac{1}{h} k \\left( \\frac{x_i - z}{h}\\right)\n",
    "$$\n",
    "where $h$ is the bandwidth and $k()$ is one of the kernel functions from the class materials (Gaussian, Epanechnikov, uniform, triangular).\n",
    "\n",
    "- Write a function that takes the bandwidth $h$ as given, and computes and plots $\\hat{f}_{N,h}(z)$, for the kernels listed in the slides\n",
    "- Write a function that computes the plug-in bandwidth\n",
    "- Use your functions to analyze some numeric variables from a dataset of your choice, using a variety of bandwidths\n",
    "- Compare bandwidths that are greater or less than the plug-in value with the results for the plug-in value. When does the KDE appear to be overfitting? Underfitting?"
   ]
  },
  {
   "cell_type": "code",
   "execution_count": null,
   "id": "93d8e8e0",
   "metadata": {},
   "outputs": [],
   "source": [
    "# formula source: https://towardsdatascience.com/kernel-density-estimation-explained-step-by-step-7cc5b5bc4517/\n",
    "def kde(X, h):\n",
    "    N = X.size\n",
    "    x = sum(X)/N\n",
    "    summation = 0\n",
    "    for i in range(N):\n",
    "        amount_to_add = X[i] - x\n",
    "        amount_to_add = amount_to_add/h\n",
    "        \n",
    "\n",
    "\n",
    "\n"
   ]
  }
 ],
 "metadata": {
  "kernelspec": {
   "display_name": "ds6001",
   "language": "python",
   "name": "python3"
  },
  "language_info": {
   "codemirror_mode": {
    "name": "ipython",
    "version": 3
   },
   "file_extension": ".py",
   "mimetype": "text/x-python",
   "name": "python",
   "nbconvert_exporter": "python",
   "pygments_lexer": "ipython3",
   "version": "3.13.5"
  }
 },
 "nbformat": 4,
 "nbformat_minor": 5
}
